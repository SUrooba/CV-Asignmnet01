{
  "nbformat": 4,
  "nbformat_minor": 0,
  "metadata": {
    "colab": {
      "name": "Untitled3.ipynb",
      "provenance": [],
      "collapsed_sections": [],
      "authorship_tag": "ABX9TyPEicw92biEBJgaOLUC7Wh4"
    },
    "kernelspec": {
      "name": "python3",
      "display_name": "Python 3"
    },
    "language_info": {
      "name": "python"
    }
  },
  "cells": [
    {
      "cell_type": "code",
      "source": [
        "!pip install keras"
      ],
      "metadata": {
        "colab": {
          "base_uri": "https://localhost:8080/"
        },
        "id": "fI29c4IMpkua",
        "outputId": "6787d33d-e1db-4208-ba4a-22e4ce4bc7eb"
      },
      "execution_count": null,
      "outputs": [
        {
          "output_type": "stream",
          "name": "stdout",
          "text": [
            "Requirement already satisfied: keras in /usr/local/lib/python3.7/dist-packages (2.8.0)\n"
          ]
        }
      ]
    },
    {
      "cell_type": "code",
      "execution_count": null,
      "metadata": {
        "id": "7Q27MlO1EV_T"
      },
      "outputs": [],
      "source": [
        "import numpy as np\n",
        "import pandas as pd\n",
        "import os\n",
        "import keras\n",
        "from keras.layers import Dense, Conv2D, BatchNormalization, Activation\n",
        "from keras.layers import AveragePooling2D, Input, Flatten\n",
        "#from keras.optimizers import Adam\n",
        "from keras.callbacks import ModelCheckpoint, LearningRateScheduler\n",
        "from keras.callbacks import ReduceLROnPlateau\n",
        "from keras.preprocessing.image import ImageDataGenerator\n",
        "from keras.regularizers import l2\n",
        "from keras import backend as K\n",
        "from keras.models import Model\n",
        "from keras.datasets import cifar10\n",
        "import numpy as np\n",
        "import os"
      ]
    },
    {
      "cell_type": "code",
      "source": [
        "def csvfile(imagepath, annotationpath):\n",
        "  imagepath = imagepath\n",
        "  annotationpath= annotationpath\n",
        "  df= pd.DataFrame(columns=['image', 'valence','arsousal','expression'])\n",
        "  for path in os.listdir(imagepath):\n",
        "    img=path[:-4]\n",
        "    val=np.load(annotationpath+\"/\"+path[:-4]+\"_val.npy\")\n",
        "    aro=np.load(annotationpath+\"/\"+path[:-4]+\"_aro.npy\")\n",
        "    exp=np.load(annotationpath+\"/\"+path[:-4]+\"_exp.npy\")\n",
        "    df= df.append({\"image\":img,\"valence\":val,\"arousal\":aro,\"expression\":exp}, ignore_index=True)\n",
        "  return df"
      ],
      "metadata": {
        "id": "UxfpniYTF4NN"
      },
      "execution_count": null,
      "outputs": []
    },
    {
      "cell_type": "code",
      "source": [
        "out= csvfile(\"/content/image\",\"/content/annotation\")"
      ],
      "metadata": {
        "id": "66aRt7kPF7r7"
      },
      "execution_count": null,
      "outputs": []
    },
    {
      "cell_type": "code",
      "source": [
        "out"
      ],
      "metadata": {
        "colab": {
          "base_uri": "https://localhost:8080/",
          "height": 424
        },
        "id": "f_zjzcsaGVt_",
        "outputId": "45e77172-7de9-49ff-d446-b964d3bf82d9"
      },
      "execution_count": null,
      "outputs": [
        {
          "output_type": "execute_result",
          "data": {
            "text/plain": [
              "    image     valence arsousal expression      arousal\n",
              "0     112    0.646915      NaN          1    0.0612464\n",
              "1      65    0.547619      NaN          1   0.00793651\n",
              "2     207           0      NaN          0            0\n",
              "3      88   -0.737463      NaN          6     0.468816\n",
              "4     114   0.0873016      NaN          0      0.34127\n",
              "..    ...         ...      ...        ...          ...\n",
              "139   100  0.00862664      NaN          0  -0.00862664\n",
              "140   164    0.787009      NaN          1     0.388524\n",
              "141    29  0.00498107      NaN          0    0.0896593\n",
              "142   193    0.730159      NaN          1     0.515873\n",
              "143    43    -0.55788      NaN          2    -0.244073\n",
              "\n",
              "[144 rows x 5 columns]"
            ],
            "text/html": [
              "\n",
              "  <div id=\"df-504c0b66-e9d3-4237-babe-33f85e199707\">\n",
              "    <div class=\"colab-df-container\">\n",
              "      <div>\n",
              "<style scoped>\n",
              "    .dataframe tbody tr th:only-of-type {\n",
              "        vertical-align: middle;\n",
              "    }\n",
              "\n",
              "    .dataframe tbody tr th {\n",
              "        vertical-align: top;\n",
              "    }\n",
              "\n",
              "    .dataframe thead th {\n",
              "        text-align: right;\n",
              "    }\n",
              "</style>\n",
              "<table border=\"1\" class=\"dataframe\">\n",
              "  <thead>\n",
              "    <tr style=\"text-align: right;\">\n",
              "      <th></th>\n",
              "      <th>image</th>\n",
              "      <th>valence</th>\n",
              "      <th>arsousal</th>\n",
              "      <th>expression</th>\n",
              "      <th>arousal</th>\n",
              "    </tr>\n",
              "  </thead>\n",
              "  <tbody>\n",
              "    <tr>\n",
              "      <th>0</th>\n",
              "      <td>112</td>\n",
              "      <td>0.646915</td>\n",
              "      <td>NaN</td>\n",
              "      <td>1</td>\n",
              "      <td>0.0612464</td>\n",
              "    </tr>\n",
              "    <tr>\n",
              "      <th>1</th>\n",
              "      <td>65</td>\n",
              "      <td>0.547619</td>\n",
              "      <td>NaN</td>\n",
              "      <td>1</td>\n",
              "      <td>0.00793651</td>\n",
              "    </tr>\n",
              "    <tr>\n",
              "      <th>2</th>\n",
              "      <td>207</td>\n",
              "      <td>0</td>\n",
              "      <td>NaN</td>\n",
              "      <td>0</td>\n",
              "      <td>0</td>\n",
              "    </tr>\n",
              "    <tr>\n",
              "      <th>3</th>\n",
              "      <td>88</td>\n",
              "      <td>-0.737463</td>\n",
              "      <td>NaN</td>\n",
              "      <td>6</td>\n",
              "      <td>0.468816</td>\n",
              "    </tr>\n",
              "    <tr>\n",
              "      <th>4</th>\n",
              "      <td>114</td>\n",
              "      <td>0.0873016</td>\n",
              "      <td>NaN</td>\n",
              "      <td>0</td>\n",
              "      <td>0.34127</td>\n",
              "    </tr>\n",
              "    <tr>\n",
              "      <th>...</th>\n",
              "      <td>...</td>\n",
              "      <td>...</td>\n",
              "      <td>...</td>\n",
              "      <td>...</td>\n",
              "      <td>...</td>\n",
              "    </tr>\n",
              "    <tr>\n",
              "      <th>139</th>\n",
              "      <td>100</td>\n",
              "      <td>0.00862664</td>\n",
              "      <td>NaN</td>\n",
              "      <td>0</td>\n",
              "      <td>-0.00862664</td>\n",
              "    </tr>\n",
              "    <tr>\n",
              "      <th>140</th>\n",
              "      <td>164</td>\n",
              "      <td>0.787009</td>\n",
              "      <td>NaN</td>\n",
              "      <td>1</td>\n",
              "      <td>0.388524</td>\n",
              "    </tr>\n",
              "    <tr>\n",
              "      <th>141</th>\n",
              "      <td>29</td>\n",
              "      <td>0.00498107</td>\n",
              "      <td>NaN</td>\n",
              "      <td>0</td>\n",
              "      <td>0.0896593</td>\n",
              "    </tr>\n",
              "    <tr>\n",
              "      <th>142</th>\n",
              "      <td>193</td>\n",
              "      <td>0.730159</td>\n",
              "      <td>NaN</td>\n",
              "      <td>1</td>\n",
              "      <td>0.515873</td>\n",
              "    </tr>\n",
              "    <tr>\n",
              "      <th>143</th>\n",
              "      <td>43</td>\n",
              "      <td>-0.55788</td>\n",
              "      <td>NaN</td>\n",
              "      <td>2</td>\n",
              "      <td>-0.244073</td>\n",
              "    </tr>\n",
              "  </tbody>\n",
              "</table>\n",
              "<p>144 rows × 5 columns</p>\n",
              "</div>\n",
              "      <button class=\"colab-df-convert\" onclick=\"convertToInteractive('df-504c0b66-e9d3-4237-babe-33f85e199707')\"\n",
              "              title=\"Convert this dataframe to an interactive table.\"\n",
              "              style=\"display:none;\">\n",
              "        \n",
              "  <svg xmlns=\"http://www.w3.org/2000/svg\" height=\"24px\"viewBox=\"0 0 24 24\"\n",
              "       width=\"24px\">\n",
              "    <path d=\"M0 0h24v24H0V0z\" fill=\"none\"/>\n",
              "    <path d=\"M18.56 5.44l.94 2.06.94-2.06 2.06-.94-2.06-.94-.94-2.06-.94 2.06-2.06.94zm-11 1L8.5 8.5l.94-2.06 2.06-.94-2.06-.94L8.5 2.5l-.94 2.06-2.06.94zm10 10l.94 2.06.94-2.06 2.06-.94-2.06-.94-.94-2.06-.94 2.06-2.06.94z\"/><path d=\"M17.41 7.96l-1.37-1.37c-.4-.4-.92-.59-1.43-.59-.52 0-1.04.2-1.43.59L10.3 9.45l-7.72 7.72c-.78.78-.78 2.05 0 2.83L4 21.41c.39.39.9.59 1.41.59.51 0 1.02-.2 1.41-.59l7.78-7.78 2.81-2.81c.8-.78.8-2.07 0-2.86zM5.41 20L4 18.59l7.72-7.72 1.47 1.35L5.41 20z\"/>\n",
              "  </svg>\n",
              "      </button>\n",
              "      \n",
              "  <style>\n",
              "    .colab-df-container {\n",
              "      display:flex;\n",
              "      flex-wrap:wrap;\n",
              "      gap: 12px;\n",
              "    }\n",
              "\n",
              "    .colab-df-convert {\n",
              "      background-color: #E8F0FE;\n",
              "      border: none;\n",
              "      border-radius: 50%;\n",
              "      cursor: pointer;\n",
              "      display: none;\n",
              "      fill: #1967D2;\n",
              "      height: 32px;\n",
              "      padding: 0 0 0 0;\n",
              "      width: 32px;\n",
              "    }\n",
              "\n",
              "    .colab-df-convert:hover {\n",
              "      background-color: #E2EBFA;\n",
              "      box-shadow: 0px 1px 2px rgba(60, 64, 67, 0.3), 0px 1px 3px 1px rgba(60, 64, 67, 0.15);\n",
              "      fill: #174EA6;\n",
              "    }\n",
              "\n",
              "    [theme=dark] .colab-df-convert {\n",
              "      background-color: #3B4455;\n",
              "      fill: #D2E3FC;\n",
              "    }\n",
              "\n",
              "    [theme=dark] .colab-df-convert:hover {\n",
              "      background-color: #434B5C;\n",
              "      box-shadow: 0px 1px 3px 1px rgba(0, 0, 0, 0.15);\n",
              "      filter: drop-shadow(0px 1px 2px rgba(0, 0, 0, 0.3));\n",
              "      fill: #FFFFFF;\n",
              "    }\n",
              "  </style>\n",
              "\n",
              "      <script>\n",
              "        const buttonEl =\n",
              "          document.querySelector('#df-504c0b66-e9d3-4237-babe-33f85e199707 button.colab-df-convert');\n",
              "        buttonEl.style.display =\n",
              "          google.colab.kernel.accessAllowed ? 'block' : 'none';\n",
              "\n",
              "        async function convertToInteractive(key) {\n",
              "          const element = document.querySelector('#df-504c0b66-e9d3-4237-babe-33f85e199707');\n",
              "          const dataTable =\n",
              "            await google.colab.kernel.invokeFunction('convertToInteractive',\n",
              "                                                     [key], {});\n",
              "          if (!dataTable) return;\n",
              "\n",
              "          const docLinkHtml = 'Like what you see? Visit the ' +\n",
              "            '<a target=\"_blank\" href=https://colab.research.google.com/notebooks/data_table.ipynb>data table notebook</a>'\n",
              "            + ' to learn more about interactive tables.';\n",
              "          element.innerHTML = '';\n",
              "          dataTable['output_type'] = 'display_data';\n",
              "          await google.colab.output.renderOutput(dataTable, element);\n",
              "          const docLink = document.createElement('div');\n",
              "          docLink.innerHTML = docLinkHtml;\n",
              "          element.appendChild(docLink);\n",
              "        }\n",
              "      </script>\n",
              "    </div>\n",
              "  </div>\n",
              "  "
            ]
          },
          "metadata": {},
          "execution_count": 9
        }
      ]
    },
    {
      "cell_type": "code",
      "source": [
        "import cv2\n",
        "import glob"
      ],
      "metadata": {
        "id": "nUgHzehoM8dl"
      },
      "execution_count": null,
      "outputs": []
    },
    {
      "cell_type": "code",
      "source": [
        "\n",
        "def resnet_v1(input_shape, depth, num_classes = 8):\n",
        "\t\n",
        "\tif (depth - 2) % 6 != 0:\n",
        "\t\traise ValueError('depth should be 6n + 2 (eg 20, 32, 44 in [a])')\n",
        "\t# Start model definition.\n",
        "\tnum_filters = 16\n",
        "\tnum_res_blocks = int((depth - 2) / 6)\n",
        "\n",
        "\tinputs = Input(shape = input_shape)\n",
        "\tx = resnet_layer(inputs = inputs)\n",
        "\t# Instantiate the stack of residual units\n",
        "\tfor stack in range(3):\n",
        "\t\tfor res_block in range(num_res_blocks):\n",
        "\t\t\tstrides = 1\n",
        "\t\t\tif stack > 0 and res_block == 0: # first layer but not first stack\n",
        "\t\t\t\tstrides = 2 # downsample\n",
        "\t\t\ty = resnet_layer(inputs = x,\n",
        "\t\t\t\t\t\t\tnum_filters = num_filters,\n",
        "\t\t\t\t\t\t\tstrides = strides)\n",
        "\t\t\ty = resnet_layer(inputs = y,\n",
        "\t\t\t\t\t\t\tnum_filters = num_filters,\n",
        "\t\t\t\t\t\t\tactivation = None)\n",
        "\t\t\tif stack > 0 and res_block == 0: # first layer but not first stack\n",
        "\t\t\t\t# linear projection residual shortcut connection to match\n",
        "\t\t\t\t# changed dims\n",
        "\t\t\t\tx = resnet_layer(inputs = x,\n",
        "\t\t\t\t\t\t\t\tnum_filters = num_filters,\n",
        "\t\t\t\t\t\t\t\tkernel_size = 1,\n",
        "\t\t\t\t\t\t\t\tstrides = strides,\n",
        "\t\t\t\t\t\t\t\tactivation = None,\n",
        "\t\t\t\t\t\t\t\tbatch_normalization = False)\n",
        "\t\t\tx = keras.layers.add([x, y])\n",
        "\t\t\tx = Activation('relu')(x)\n",
        "\t\tnum_filters *= 2\n",
        "\n",
        "\t# Add classifier on top.\n",
        "\t# v1 does not use BN after last shortcut connection-ReLU\n",
        "\tx = AveragePooling2D(pool_size = 8)(x)\n",
        "\ty = Flatten()(x)\n",
        "\toutputs = Dense(num_classes,\n",
        "\t\t\t\t\tactivation ='softmax',\n",
        "\t\t\t\t\tkernel_initializer ='he_normal')(y)\n",
        "\n",
        "\t# Instantiate model.\n",
        "\tmodel = Model(inputs = inputs, outputs = outputs)\n",
        "\treturn model\n"
      ],
      "metadata": {
        "id": "9mB5R83JqNhm"
      },
      "execution_count": null,
      "outputs": []
    },
    {
      "cell_type": "code",
      "source": [
        "def load_images_from_folder(folder):\n",
        "    images = []\n",
        "    for filename in os.listdir(folder):\n",
        "        if filename.endswith(\".jpg\"):\n",
        "            img = cv2.imread(os.path.join(folder, filename))\n",
        "            norm = cv2.normalize(img, None, alpha=0, beta=1, norm_type=cv2.NORM_MINMAX, dtype=cv2.CV_32F)\n",
        "            if img is not None:\n",
        "                images.append(img)\n",
        "            return images"
      ],
      "metadata": {
        "id": "tDotgd9hMhrQ"
      },
      "execution_count": null,
      "outputs": []
    },
    {
      "cell_type": "code",
      "source": [
        "read_image=load_images_from_folder(\"/content/image\")"
      ],
      "metadata": {
        "id": "77fOlivBKgvG"
      },
      "execution_count": null,
      "outputs": []
    },
    {
      "cell_type": "code",
      "source": [
        "Model=resnet_v1(224*224*, 3)"
      ],
      "metadata": {
        "id": "9aA_TQomBF_D"
      },
      "execution_count": null,
      "outputs": []
    }
  ]
}